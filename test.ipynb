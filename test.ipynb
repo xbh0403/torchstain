{
 "cells": [
  {
   "cell_type": "code",
   "execution_count": 1,
   "metadata": {},
   "outputs": [],
   "source": [
    "import torch\n",
    "from torchvision import transforms\n",
    "import torchstain\n",
    "import cv2\n",
    "\n",
    "target = cv2.cvtColor(cv2.imread(\"./data/target.png\"), cv2.COLOR_BGR2RGB)\n",
    "to_transform = cv2.cvtColor(cv2.imread(\"./data/source.png\"), cv2.COLOR_BGR2RGB)\n",
    "\n",
    "T = transforms.Compose([\n",
    "    transforms.ToTensor(),\n",
    "    transforms.Lambda(lambda x: x*255)\n",
    "])\n",
    "\n",
    "normalizer = torchstain.normalizers.MacenkoNormalizer(backend='torch')\n",
    "normalizer.fit(T(target))\n",
    "\n",
    "t_to_transform = T(to_transform)\n",
    "norm, H, E = normalizer.normalize(I=t_to_transform, stains=True)"
   ]
  },
  {
   "cell_type": "markdown",
   "metadata": {},
   "source": [
    "### Torch GPU (batched)"
   ]
  },
  {
   "cell_type": "code",
   "execution_count": 1,
   "metadata": {},
   "outputs": [
    {
     "name": "stdout",
     "output_type": "stream",
     "text": [
      "Using device: cuda\n",
      "Fitting normalizer to target: data/target.png\n",
      "Will save normalized images to: data/normed_tiles_torch_par_save\n",
      "Found 1520 images to process\n",
      "Processing in batches of 256 images\n"
     ]
    },
    {
     "name": "stderr",
     "output_type": "stream",
     "text": [
      "Processing batches: 100%|█████████████████████████████████████████████████████████████████████████████████████████████████████████████████████████████████████████████████████████████████| 6/6 [00:49<00:00,  8.28s/it]\n"
     ]
    },
    {
     "name": "stdout",
     "output_type": "stream",
     "text": [
      "All normalization complete. Waiting for remaining save operations to finish...\n"
     ]
    },
    {
     "name": "stderr",
     "output_type": "stream",
     "text": [
      "Finishing save operations: 100%|███████████████████████████████████████████████████████████████████████████████████████████████████████████████████████████████████████████████████| 1520/1520 [00:02<00:00, 543.14it/s]"
     ]
    },
    {
     "name": "stdout",
     "output_type": "stream",
     "text": [
      "All operations completed.\n"
     ]
    },
    {
     "name": "stderr",
     "output_type": "stream",
     "text": [
      "\n"
     ]
    }
   ],
   "source": [
    "from gpu_norm import BatchHENormalizer\n",
    "import os\n",
    "import torch\n",
    "\n",
    "device = 'cuda' if torch.cuda.is_available() else 'cpu'\n",
    "normalizer = BatchHENormalizer(normalizer_type='macenko', device=device)\n",
    "\n",
    "# Process a folder of images\n",
    "normalizer.process_folder(\n",
    "    input_folder='data/tiles',           # Folder containing images to normalize\n",
    "    output_folder='data/normed_tiles_torch_par_save',     # Folder to save normalized images (set to None to overwrite originals)\n",
    "    batch_size=256,                          # Number of images to process at once\n",
    "    num_workers=8,                         # Number of parallel workers for loading images\n",
    "    fit_target='data/target.png',         # Target image for normalization reference\n",
    "    Io=240,                                # Additional parameters for the normalizer\n",
    "    alpha=1\n",
    ")"
   ]
  },
  {
   "cell_type": "code",
   "execution_count": 1,
   "metadata": {},
   "outputs": [
    {
     "name": "stdout",
     "output_type": "stream",
     "text": [
      "Using device: cuda\n",
      "Fitting normalizer to target: data/target.png\n",
      "Will save normalized images to: data/AAT5/normed_tiles\n",
      "Found 6082 images to process\n",
      "Processing in batches of 256 images\n"
     ]
    },
    {
     "name": "stderr",
     "output_type": "stream",
     "text": [
      "Processing batches: 100%|███████████████████████████████████████████████████████████████████████████████████████████████████████████████████████████████████████████████████████████████| 24/24 [03:22<00:00,  8.46s/it]\n"
     ]
    },
    {
     "name": "stdout",
     "output_type": "stream",
     "text": [
      "All normalization complete. Waiting for remaining save operations to finish...\n"
     ]
    },
    {
     "name": "stderr",
     "output_type": "stream",
     "text": [
      "Finishing save operations: 100%|██████████████████████████████████████████████████████████████████████████████████████████████████████████████████████████████████████████████████| 6082/6082 [00:02<00:00, 2313.35it/s]"
     ]
    },
    {
     "name": "stdout",
     "output_type": "stream",
     "text": [
      "All operations completed.\n"
     ]
    },
    {
     "name": "stderr",
     "output_type": "stream",
     "text": [
      "\n"
     ]
    }
   ],
   "source": [
    "from gpu_norm import BatchHENormalizer\n",
    "import os\n",
    "import torch\n",
    "\n",
    "device = 'cuda' if torch.cuda.is_available() else 'cpu'\n",
    "normalizer = BatchHENormalizer(normalizer_type='macenko', device=device)\n",
    "\n",
    "# Process a folder of images\n",
    "normalizer.process_folder(\n",
    "    input_folder='data/AAT5/tiles',           # Folder containing images to normalize\n",
    "    output_folder='data/AAT5/normed_tiles',     # Folder to save normalized images (set to None to overwrite originals)\n",
    "    batch_size=256,                          # Number of images to process at once\n",
    "    num_workers=8,                         # Number of parallel workers for loading images\n",
    "    fit_target='data/target.png',         # Target image for normalization reference\n",
    "    Io=240,                                # Additional parameters for the normalizer\n",
    "    alpha=1\n",
    ")"
   ]
  },
  {
   "cell_type": "markdown",
   "metadata": {},
   "source": [
    "### Torch CPU (Batched)"
   ]
  },
  {
   "cell_type": "code",
   "execution_count": 1,
   "metadata": {},
   "outputs": [
    {
     "name": "stdout",
     "output_type": "stream",
     "text": [
      "Using device: cpu\n",
      "Fitting normalizer to target: data/target.png\n",
      "Will save normalized images to: data/normed_tiles_torch_cpu\n",
      "Found 1520 images to process\n",
      "Processing in batches of 256 images\n"
     ]
    },
    {
     "name": "stderr",
     "output_type": "stream",
     "text": [
      "Processing batches: 100%|█████████████████████████████████████████████████████████████████████████████████████████████████████████████████████████████████████████████████████████████████| 6/6 [01:14<00:00, 12.37s/it]\n"
     ]
    },
    {
     "name": "stdout",
     "output_type": "stream",
     "text": [
      "All normalization complete. Waiting for remaining save operations to finish...\n"
     ]
    },
    {
     "name": "stderr",
     "output_type": "stream",
     "text": [
      "Finishing save operations: 100%|███████████████████████████████████████████████████████████████████████████████████████████████████████████████████████████████████████████████████| 1520/1520 [00:02<00:00, 512.39it/s]"
     ]
    },
    {
     "name": "stdout",
     "output_type": "stream",
     "text": [
      "All operations completed.\n"
     ]
    },
    {
     "name": "stderr",
     "output_type": "stream",
     "text": [
      "\n"
     ]
    }
   ],
   "source": [
    "from gpu_norm import BatchHENormalizer\n",
    "import os\n",
    "import torch\n",
    "\n",
    "device = 'cpu'\n",
    "normalizer = BatchHENormalizer(normalizer_type='macenko', device=device)\n",
    "\n",
    "# Process a folder of images\n",
    "normalizer.process_folder(\n",
    "    input_folder='data/tiles',           # Folder containing images to normalize\n",
    "    output_folder='data/normed_tiles_torch_cpu',     # Folder to save normalized images (set to None to overwrite originals)\n",
    "    batch_size=256,                          # Number of images to process at once\n",
    "    num_workers=8,                         # Number of parallel workers for loading images\n",
    "    fit_target='data/target.png',         # Target image for normalization reference\n",
    "    Io=240,                                # Additional parameters for the normalizer\n",
    "    alpha=1\n",
    ")"
   ]
  },
  {
   "cell_type": "code",
   "execution_count": 1,
   "metadata": {},
   "outputs": [
    {
     "name": "stdout",
     "output_type": "stream",
     "text": [
      "Using device: cpu\n",
      "Fitting normalizer to target: data/target.png\n",
      "Will save normalized images to: data/AAT5/normed_tiles_torch_cpu\n",
      "Found 6082 images to process\n",
      "Processing in batches of 256 images\n"
     ]
    },
    {
     "name": "stderr",
     "output_type": "stream",
     "text": [
      "Processing batches: 100%|███████████████████████████████████████████████████████████████████████████████████████████████████████████████████████████████████████████████████████████████| 24/24 [05:00<00:00, 12.51s/it]\n"
     ]
    },
    {
     "name": "stdout",
     "output_type": "stream",
     "text": [
      "All normalization complete. Waiting for remaining save operations to finish...\n"
     ]
    },
    {
     "name": "stderr",
     "output_type": "stream",
     "text": [
      "Finishing save operations: 100%|██████████████████████████████████████████████████████████████████████████████████████████████████████████████████████████████████████████████████| 6082/6082 [00:02<00:00, 2319.19it/s]"
     ]
    },
    {
     "name": "stdout",
     "output_type": "stream",
     "text": [
      "All operations completed.\n"
     ]
    },
    {
     "name": "stderr",
     "output_type": "stream",
     "text": [
      "\n"
     ]
    }
   ],
   "source": [
    "from gpu_norm import BatchHENormalizer\n",
    "import os\n",
    "import torch\n",
    "\n",
    "device = 'cpu'\n",
    "normalizer = BatchHENormalizer(normalizer_type='macenko', device=device)\n",
    "\n",
    "# Process a folder of images\n",
    "normalizer.process_folder(\n",
    "    input_folder='data/AAT5/tiles',           # Folder containing images to normalize\n",
    "    output_folder='data/AAT5/normed_tiles_torch_cpu',     # Folder to save normalized images (set to None to overwrite originals)\n",
    "    batch_size=256,                          # Number of images to process at once\n",
    "    num_workers=8,                         # Number of parallel workers for loading images\n",
    "    fit_target='data/target.png',         # Target image for normalization reference\n",
    "    Io=240,                                # Additional parameters for the normalizer\n",
    "    alpha=1\n",
    ")"
   ]
  },
  {
   "cell_type": "markdown",
   "metadata": {},
   "source": [
    "### TF Testing"
   ]
  },
  {
   "cell_type": "code",
   "execution_count": 2,
   "metadata": {},
   "outputs": [
    {
     "name": "stdout",
     "output_type": "stream",
     "text": [
      "Available GPUs: [PhysicalDevice(name='/physical_device:GPU:0', device_type='GPU')]\n",
      "Using device: /GPU:0\n",
      "Memory growth enabled for GPUs\n",
      "Will save normalized images to: data/normed_tiles_tf\n",
      "Loading target image for fitting: data/target.png\n",
      "Found 1520 images to process\n",
      "Processing in batches of 256 images\n"
     ]
    },
    {
     "name": "stderr",
     "output_type": "stream",
     "text": [
      "Processing batches: 100%|█████████████████████████████████████████████████████████████████████████████████████████████████████████████████████████████████████████████████████████████████| 6/6 [02:18<00:00, 23.12s/it]\n"
     ]
    }
   ],
   "source": [
    "import tensorflow as tf\n",
    "from gpu_tf import *\n",
    "\n",
    "print(\"Available GPUs:\", tf.config.list_physical_devices('GPU'))\n",
    "\n",
    "# Initialize the batch normalizer with GPU support\n",
    "device = '/GPU:0' if tf.config.list_physical_devices('GPU') else '/CPU:0'\n",
    "normalizer = TFBatchHENormalizer(normalizer_type='macenko', device=device)\n",
    "\n",
    "# Process a folder of images\n",
    "normalizer.process_folder(\n",
    "    input_folder='data/tiles',                # Folder containing images to normalize\n",
    "    output_folder='data/normed_tiles_tf',     # Folder to save normalized images (set to None to overwrite originals)\n",
    "    batch_size=256,                             # Number of images to process at once\n",
    "    num_workers=4,                            # Number of parallel workers for loading images\n",
    "    fit_target='data/target.png',             # Target image for normalization reference\n",
    "    Io=240,                                   # Additional parameters for the normalizer\n",
    "    alpha=1\n",
    ")\n"
   ]
  }
 ],
 "metadata": {
  "kernelspec": {
   "display_name": "Python 3 (ipykernel)",
   "language": "python",
   "name": "python3"
  },
  "language_info": {
   "codemirror_mode": {
    "name": "ipython",
    "version": 3
   },
   "file_extension": ".py",
   "mimetype": "text/x-python",
   "name": "python",
   "nbconvert_exporter": "python",
   "pygments_lexer": "ipython3",
   "version": "3.10.15"
  }
 },
 "nbformat": 4,
 "nbformat_minor": 2
}
