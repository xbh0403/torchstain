{
 "cells": [
  {
   "cell_type": "code",
   "execution_count": 1,
   "metadata": {},
   "outputs": [],
   "source": [
    "import torch\n",
    "from torchvision import transforms\n",
    "import torchstain\n",
    "import cv2\n",
    "\n",
    "target = cv2.cvtColor(cv2.imread(\"./data/target.png\"), cv2.COLOR_BGR2RGB)\n",
    "to_transform = cv2.cvtColor(cv2.imread(\"./data/source.png\"), cv2.COLOR_BGR2RGB)\n",
    "\n",
    "T = transforms.Compose([\n",
    "    transforms.ToTensor(),\n",
    "    transforms.Lambda(lambda x: x*255)\n",
    "])\n",
    "\n",
    "normalizer = torchstain.normalizers.MacenkoNormalizer(backend='torch')\n",
    "normalizer.fit(T(target))\n",
    "\n",
    "t_to_transform = T(to_transform)\n",
    "norm, H, E = normalizer.normalize(I=t_to_transform, stains=True)"
   ]
  },
  {
   "cell_type": "code",
   "execution_count": 2,
   "metadata": {},
   "outputs": [
    {
     "data": {
      "text/plain": [
       "True"
      ]
     },
     "execution_count": 2,
     "metadata": {},
     "output_type": "execute_result"
    }
   ],
   "source": [
    "# write norm to image file\n",
    "cv2.imwrite(\"norm.png\", norm.numpy())\n",
    "\n",
    "# write H to image file\n",
    "cv2.imwrite(\"H.png\", H.numpy())\n",
    "\n",
    "# write E to image file\n",
    "cv2.imwrite(\"E.png\", E.numpy())\n"
   ]
  }
 ],
 "metadata": {
  "kernelspec": {
   "display_name": "clam_latest",
   "language": "python",
   "name": "python3"
  },
  "language_info": {
   "codemirror_mode": {
    "name": "ipython",
    "version": 3
   },
   "file_extension": ".py",
   "mimetype": "text/x-python",
   "name": "python",
   "nbconvert_exporter": "python",
   "pygments_lexer": "ipython3",
   "version": "3.10.15"
  }
 },
 "nbformat": 4,
 "nbformat_minor": 2
}
